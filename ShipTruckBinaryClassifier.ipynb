{
 "cells": [
  {
   "cell_type": "code",
   "execution_count": 4,
   "metadata": {
    "id": "J-EKiFakFgre"
   },
   "outputs": [],
   "source": [
    "import tensorflow as tf\n",
    "from tensorflow.keras import datasets,layers,models\n",
    "import matplotlib.pyplot as plt\n",
    "import pandas as pd\n",
    "import numpy as np\n",
    "import seaborn as sns\n"
   ]
  },
  {
   "cell_type": "markdown",
   "metadata": {
    "id": "zx6wkpsmS-s4"
   },
   "source": [
    "###Here, we'll take CIFAR10 dataset and extract the ship and truck images from it"
   ]
  },
  {
   "cell_type": "code",
   "execution_count": 5,
   "metadata": {
    "id": "wQ5zvOV6F1e8"
   },
   "outputs": [
    {
     "output_type": "stream",
     "name": "stdout",
     "text": [
      "Downloading data from https://www.cs.toronto.edu/~kriz/cifar-10-python.tar.gz\n",
      "170500096/170498071 [==============================] - 134s 1us/step\n",
      "170508288/170498071 [==============================] - 134s 1us/step\n"
     ]
    }
   ],
   "source": [
    "(trainX, trainY),(testX,testY)=datasets.cifar10.load_data()"
   ]
  },
  {
   "cell_type": "code",
   "execution_count": 6,
   "metadata": {
    "colab": {
     "base_uri": "https://localhost:8080/"
    },
    "id": "TJhE2MX2Qz8G",
    "outputId": "04c3f29c-c669-4a95-ec6f-4743c63a780b"
   },
   "outputs": [
    {
     "output_type": "stream",
     "name": "stdout",
     "text": [
      "(50000, 32, 32, 3)\n(50000, 1)\n(10000, 32, 32, 3)\n(10000, 1)\n"
     ]
    }
   ],
   "source": [
    "print(trainX.shape)\n",
    "print(trainY.shape)\n",
    "print(testX.shape)\n",
    "print(testY.shape)"
   ]
  },
  {
   "cell_type": "code",
   "execution_count": 7,
   "metadata": {
    "id": "1w5oFKQ-Ow5o"
   },
   "outputs": [],
   "source": [
    "trainY=trainY.reshape(-1,)\n",
    "testY=testY.reshape(-1,)"
   ]
  },
  {
   "cell_type": "code",
   "execution_count": 8,
   "metadata": {
    "id": "pk3ls3uoPD3j"
   },
   "outputs": [
    {
     "output_type": "error",
     "ename": "MemoryError",
     "evalue": "Unable to allocate 1.14 GiB for an array with shape (50000, 32, 32, 3) and data type float64",
     "traceback": [
      "\u001b[1;31m---------------------------------------------------------------------------\u001b[0m",
      "\u001b[1;31mMemoryError\u001b[0m                               Traceback (most recent call last)",
      "\u001b[1;32m<ipython-input-8-32b338e123de>\u001b[0m in \u001b[0;36m<module>\u001b[1;34m\u001b[0m\n\u001b[1;32m----> 1\u001b[1;33m \u001b[0mtrainX\u001b[0m\u001b[1;33m=\u001b[0m\u001b[0mtrainX\u001b[0m\u001b[1;33m/\u001b[0m\u001b[1;36m255\u001b[0m\u001b[1;33m\u001b[0m\u001b[1;33m\u001b[0m\u001b[0m\n\u001b[0m\u001b[0;32m      2\u001b[0m \u001b[0mtestX\u001b[0m\u001b[1;33m=\u001b[0m\u001b[0mtestX\u001b[0m\u001b[1;33m/\u001b[0m\u001b[1;36m255\u001b[0m\u001b[1;33m\u001b[0m\u001b[1;33m\u001b[0m\u001b[0m\n",
      "\u001b[1;31mMemoryError\u001b[0m: Unable to allocate 1.14 GiB for an array with shape (50000, 32, 32, 3) and data type float64"
     ]
    }
   ],
   "source": [
    "trainX=trainX/255\n",
    "testX=testX/255"
   ]
  },
  {
   "cell_type": "code",
   "execution_count": null,
   "metadata": {
    "colab": {
     "base_uri": "https://localhost:8080/"
    },
    "id": "njN22_TGksc4",
    "outputId": "ee12fa08-9862-4f66-e3dc-f716b30d9d0d"
   },
   "outputs": [],
   "source": [
    "shipcount=0\n",
    "truckcount=0\n",
    "for y in trainY:\n",
    "  if(y==8):\n",
    "    shipcount+=1\n",
    "  elif(y==9):\n",
    "    truckcount+=1\n",
    "print(shipcount)\n",
    "print(truckcount)"
   ]
  },
  {
   "cell_type": "code",
   "execution_count": null,
   "metadata": {
    "colab": {
     "base_uri": "https://localhost:8080/"
    },
    "id": "inUZ3C0pQ5Wd",
    "outputId": "33fd9d5f-87d8-4225-e884-ee4916d20c67"
   },
   "outputs": [],
   "source": [
    "STtrainX=[]\n",
    "STtrainY=[]\n",
    "\n",
    "for index in range(50000):\n",
    "  if(trainY[index]==9 or trainY[index]==8):\n",
    "    STtrainX.append(trainX[index])\n",
    "    STtrainY.append(trainY[index])\n",
    "print(len(STtrainX))\n"
   ]
  },
  {
   "cell_type": "code",
   "execution_count": null,
   "metadata": {
    "colab": {
     "base_uri": "https://localhost:8080/"
    },
    "id": "NzbSr177fdFA",
    "outputId": "37d37a1e-fab4-4bf1-f6c9-6e0729bf2347"
   },
   "outputs": [],
   "source": [
    "STtestX=[]\n",
    "STtestY=[]\n",
    "\n",
    "for index in range(10000):\n",
    "  if(testY[index]==9 or testY[index]==8):\n",
    "    STtestX.append(testX[index])\n",
    "    STtestY.append(testY[index])\n",
    "print(len(STtestX))"
   ]
  },
  {
   "cell_type": "code",
   "execution_count": null,
   "metadata": {
    "colab": {
     "base_uri": "https://localhost:8080/"
    },
    "id": "ton5QDRJMwOa",
    "outputId": "0ed8ae08-d27d-4635-ad7c-0e6f24116312"
   },
   "outputs": [],
   "source": [
    "for _ in range(len(STtrainY)):\n",
    "  if(STtrainY[_]==8):\n",
    "    STtrainY[_]=0\n",
    "  else:\n",
    "    STtrainY[_]=1\n",
    "for _ in range(len(STtestY)):\n",
    "  if(STtestY[_]==8):\n",
    "    STtestY[_]=0\n",
    "  else:\n",
    "    STtestY[_]=1\n",
    "  \n",
    "print(STtrainY[:5])\n",
    "print(STtestY[:5])\n"
   ]
  },
  {
   "cell_type": "code",
   "execution_count": null,
   "metadata": {
    "id": "EZGJMtPRNSRG"
   },
   "outputs": [],
   "source": [
    "# ann=models.Sequential([\n",
    "#                        layers.Flatten(input_shape=(32,32,3)),\n",
    "#                         layers.Dense(3000,activation='relu'),\n",
    "#                         layers.Dense(2,activation='softmax')\n",
    "# ])"
   ]
  },
  {
   "cell_type": "code",
   "execution_count": null,
   "metadata": {
    "id": "0YoHLcFBNkNU"
   },
   "outputs": [],
   "source": [
    "# ann.compile(optimizer='SGD',\n",
    "#             loss='sparse_categorical_crossentropy',\n",
    "#             metrics=['accuracy']\n",
    "#           )"
   ]
  },
  {
   "cell_type": "code",
   "execution_count": null,
   "metadata": {
    "id": "estX52JuNomx"
   },
   "outputs": [],
   "source": [
    "# ann.fit(np.array(STtrainX),np.array(STtrainY),epochs=10)"
   ]
  },
  {
   "cell_type": "code",
   "execution_count": null,
   "metadata": {
    "id": "KyA9ZU2JXg3b"
   },
   "outputs": [],
   "source": [
    "# ann.evaluate(np.array(STtrainX),np.array(STtrainY))"
   ]
  },
  {
   "cell_type": "code",
   "execution_count": null,
   "metadata": {
    "id": "zaPMHdMYgCTZ"
   },
   "outputs": [],
   "source": [
    "cnn= models.Sequential([\n",
    "                        layers.Conv2D(filters=10,kernel_size=(3,3),activation='relu',input_shape=(32,32,3)),\n",
    "                        layers.MaxPooling2D((2,2)),\n",
    "                        layers.Conv2D(filters=5,kernel_size=(3,3),activation='relu'),\n",
    "                        layers.MaxPooling2D((2,2)),\n",
    "                        layers.Flatten(),\n",
    "                        layers.Dense(10,activation='relu'),\n",
    "                        layers.Dense(2,activation='softmax')\n",
    "])\n"
   ]
  },
  {
   "cell_type": "code",
   "execution_count": null,
   "metadata": {
    "id": "RP6A-MFRLWmj"
   },
   "outputs": [],
   "source": [
    "cnn.compile(optimizer='adam',\n",
    "            loss='sparse_categorical_crossentropy',\n",
    "            metrics='accuracy'\n",
    "          )"
   ]
  },
  {
   "cell_type": "code",
   "execution_count": null,
   "metadata": {
    "colab": {
     "base_uri": "https://localhost:8080/"
    },
    "id": "_j1SsaTvMIbF",
    "outputId": "9278b8a2-cf5d-4b92-c947-b433b924f5c6"
   },
   "outputs": [],
   "source": [
    "cnn.fit(np.array(STtrainX),np.array(STtrainY),epochs=10)"
   ]
  },
  {
   "cell_type": "code",
   "execution_count": null,
   "metadata": {
    "colab": {
     "base_uri": "https://localhost:8080/"
    },
    "id": "aSt2D4ssX7dl",
    "outputId": "a350fd68-a651-4720-a834-cdfbd33b7c59"
   },
   "outputs": [],
   "source": [
    "cnn.evaluate(np.array(STtrainX),np.array(STtrainY))"
   ]
  },
  {
   "cell_type": "code",
   "execution_count": null,
   "metadata": {
    "colab": {
     "base_uri": "https://localhost:8080/"
    },
    "id": "aQfVpmWpX6ZP",
    "outputId": "5b1495e1-49b6-4b0e-a21f-8af6ee3623db"
   },
   "outputs": [
    {
     "name": "stdout",
     "output_type": "stream",
     "text": [
      "INFO:tensorflow:Assets written to: ./models/assets\n"
     ]
    }
   ],
   "source": [
    "pickle.dump(cnn, open('shiptruck.pkl', 'wb'))"
   ]
  },
  {
   "cell_type": "code",
   "execution_count": null,
   "metadata": {
    "id": "t_kTd3L4MU7k"
   },
   "outputs": [],
   "source": []
  }
 ],
 "metadata": {
  "accelerator": "TPU",
  "colab": {
   "collapsed_sections": [],
   "name": "Copy of BinaryClassifier.ipynb",
   "provenance": []
  },
  "kernelspec": {
   "name": "python3",
   "display_name": "Python 3.8.8 64-bit ('base': conda)"
  },
  "language_info": {
   "codemirror_mode": {
    "name": "ipython",
    "version": 3
   },
   "file_extension": ".py",
   "mimetype": "text/x-python",
   "name": "python",
   "nbconvert_exporter": "python",
   "pygments_lexer": "ipython3",
   "version": "3.8.8"
  },
  "interpreter": {
   "hash": "183bbf6827d058c2a2fb0f4acdc0420849dda2b4380af0e437e38c64d798d8b7"
  }
 },
 "nbformat": 4,
 "nbformat_minor": 1
}