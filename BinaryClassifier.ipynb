{
  "nbformat": 4,
  "nbformat_minor": 0,
  "metadata": {
    "accelerator": "TPU",
    "colab": {
      "name": "BinaryClassifier.ipynb",
      "provenance": [],
      "collapsed_sections": [],
      "authorship_tag": "ABX9TyP8H9q4TZqajP3eQtxzmfdi",
      "include_colab_link": true
    },
    "kernelspec": {
      "display_name": "Python 3",
      "name": "python3"
    },
    "language_info": {
      "name": "python"
    }
  },
  "cells": [
    {
      "cell_type": "markdown",
      "metadata": {
        "id": "view-in-github",
        "colab_type": "text"
      },
      "source": [
        "<a href=\"https://colab.research.google.com/github/itsniranjan/ShipTruckClassifier/blob/main/BinaryClassifier.ipynb\" target=\"_parent\"><img src=\"https://colab.research.google.com/assets/colab-badge.svg\" alt=\"Open In Colab\"/></a>"
      ]
    },
    {
      "cell_type": "code",
      "metadata": {
        "id": "J-EKiFakFgre"
      },
      "source": [
        "import tensorflow as tf\n",
        "from tensorflow.keras import datasets,layers,models\n",
        "import matplotlib.pyplot as plt\n",
        "import pandas as pd\n",
        "import numpy as np\n",
        "import seaborn as sns\n"
      ],
      "execution_count": null,
      "outputs": []
    },
    {
      "cell_type": "markdown",
      "metadata": {
        "id": "zx6wkpsmS-s4"
      },
      "source": [
        "###Here, we'll take CIFAR10 dataset and extract the ship and truck images from it"
      ]
    },
    {
      "cell_type": "code",
      "metadata": {
        "id": "wQ5zvOV6F1e8"
      },
      "source": [
        "(trainX, trainY),(testX,testY)=datasets.cifar10.load_data()"
      ],
      "execution_count": null,
      "outputs": []
    },
    {
      "cell_type": "code",
      "metadata": {
        "colab": {
          "base_uri": "https://localhost:8080/"
        },
        "id": "TJhE2MX2Qz8G",
        "outputId": "04c3f29c-c669-4a95-ec6f-4743c63a780b"
      },
      "source": [
        "print(trainX.shape)\n",
        "print(trainY.shape)\n",
        "print(testX.shape)\n",
        "print(testY.shape)"
      ],
      "execution_count": null,
      "outputs": [
        {
          "output_type": "stream",
          "text": [
            "(50000, 32, 32, 3)\n",
            "(50000, 1)\n",
            "(10000, 32, 32, 3)\n",
            "(10000, 1)\n"
          ],
          "name": "stdout"
        }
      ]
    },
    {
      "cell_type": "code",
      "metadata": {
        "id": "1w5oFKQ-Ow5o"
      },
      "source": [
        "trainY=trainY.reshape(-1,)\n",
        "testY=testY.reshape(-1,)"
      ],
      "execution_count": null,
      "outputs": []
    },
    {
      "cell_type": "code",
      "metadata": {
        "id": "pk3ls3uoPD3j"
      },
      "source": [
        "trainX=trainX/255\n",
        "testX=testX/255"
      ],
      "execution_count": null,
      "outputs": []
    },
    {
      "cell_type": "code",
      "metadata": {
        "colab": {
          "base_uri": "https://localhost:8080/"
        },
        "id": "njN22_TGksc4",
        "outputId": "ee12fa08-9862-4f66-e3dc-f716b30d9d0d"
      },
      "source": [
        "shipcount=0\n",
        "truckcount=0\n",
        "for y in trainY:\n",
        "  if(y==8):\n",
        "    shipcount+=1\n",
        "  elif(y==9):\n",
        "    truckcount+=1\n",
        "print(shipcount)\n",
        "print(truckcount)"
      ],
      "execution_count": null,
      "outputs": [
        {
          "output_type": "stream",
          "text": [
            "5000\n",
            "5000\n"
          ],
          "name": "stdout"
        }
      ]
    },
    {
      "cell_type": "code",
      "metadata": {
        "colab": {
          "base_uri": "https://localhost:8080/"
        },
        "id": "inUZ3C0pQ5Wd",
        "outputId": "33fd9d5f-87d8-4225-e884-ee4916d20c67"
      },
      "source": [
        "STtrainX=[]\n",
        "STtrainY=[]\n",
        "\n",
        "for index in range(50000):\n",
        "  if(trainY[index]==9 or trainY[index]==8):\n",
        "    STtrainX.append(trainX[index])\n",
        "    STtrainY.append(trainY[index])\n",
        "print(len(STtrainX))\n"
      ],
      "execution_count": null,
      "outputs": [
        {
          "output_type": "stream",
          "text": [
            "10000\n"
          ],
          "name": "stdout"
        }
      ]
    },
    {
      "cell_type": "code",
      "metadata": {
        "colab": {
          "base_uri": "https://localhost:8080/"
        },
        "id": "NzbSr177fdFA",
        "outputId": "37d37a1e-fab4-4bf1-f6c9-6e0729bf2347"
      },
      "source": [
        "STtestX=[]\n",
        "STtestY=[]\n",
        "\n",
        "for index in range(10000):\n",
        "  if(testY[index]==9 or testY[index]==8):\n",
        "    STtestX.append(testX[index])\n",
        "    STtestY.append(testY[index])\n",
        "print(len(STtestX))"
      ],
      "execution_count": null,
      "outputs": [
        {
          "output_type": "stream",
          "text": [
            "2000\n"
          ],
          "name": "stdout"
        }
      ]
    },
    {
      "cell_type": "code",
      "metadata": {
        "colab": {
          "base_uri": "https://localhost:8080/"
        },
        "id": "ton5QDRJMwOa",
        "outputId": "0ed8ae08-d27d-4635-ad7c-0e6f24116312"
      },
      "source": [
        "for _ in range(len(STtrainY)):\n",
        "  if(STtrainY[_]==8):\n",
        "    STtrainY[_]=0\n",
        "  else:\n",
        "    STtrainY[_]=1\n",
        "for _ in range(len(STtestY)):\n",
        "  if(STtestY[_]==8):\n",
        "    STtestY[_]=0\n",
        "  else:\n",
        "    STtestY[_]=1\n",
        "  \n",
        "print(STtrainY[:5])\n",
        "print(STtestY[:5])\n"
      ],
      "execution_count": null,
      "outputs": [
        {
          "output_type": "stream",
          "text": [
            "[1, 1, 0, 1, 1]\n",
            "[0, 0, 1, 1, 0]\n"
          ],
          "name": "stdout"
        }
      ]
    },
    {
      "cell_type": "code",
      "metadata": {
        "id": "EZGJMtPRNSRG"
      },
      "source": [
        "# ann=models.Sequential([\n",
        "#                        layers.Flatten(input_shape=(32,32,3)),\n",
        "#                         layers.Dense(3000,activation='relu'),\n",
        "#                         layers.Dense(2,activation='softmax')\n",
        "# ])"
      ],
      "execution_count": null,
      "outputs": []
    },
    {
      "cell_type": "code",
      "metadata": {
        "id": "0YoHLcFBNkNU"
      },
      "source": [
        "# ann.compile(optimizer='SGD',\n",
        "#             loss='sparse_categorical_crossentropy',\n",
        "#             metrics=['accuracy']\n",
        "#           )"
      ],
      "execution_count": null,
      "outputs": []
    },
    {
      "cell_type": "code",
      "metadata": {
        "id": "estX52JuNomx"
      },
      "source": [
        "# ann.fit(np.array(STtrainX),np.array(STtrainY),epochs=10)"
      ],
      "execution_count": null,
      "outputs": []
    },
    {
      "cell_type": "code",
      "metadata": {
        "id": "KyA9ZU2JXg3b"
      },
      "source": [
        "# ann.evaluate(np.array(STtrainX),np.array(STtrainY))"
      ],
      "execution_count": null,
      "outputs": []
    },
    {
      "cell_type": "code",
      "metadata": {
        "id": "zaPMHdMYgCTZ"
      },
      "source": [
        "cnn= models.Sequential([\n",
        "                        layers.Conv2D(filters=5,kernel_size=(3,3),activation='relu',input_shape=(32,32,3)),\n",
        "                        layers.MaxPooling2D((2,2)),\n",
        "                        layers.Conv2D(filters=5,kernel_size=(3,3),activation='relu'),\n",
        "                        layers.MaxPooling2D((2,2)),\n",
        "                        layers.Flatten(),\n",
        "                        layers.Dense(10,activation='relu'),\n",
        "                        layers.Dense(2,activation='softmax')\n",
        "])\n"
      ],
      "execution_count": null,
      "outputs": []
    },
    {
      "cell_type": "code",
      "metadata": {
        "id": "RP6A-MFRLWmj"
      },
      "source": [
        "cnn.compile(optimizer='adam',\n",
        "            loss='sparse_categorical_crossentropy',\n",
        "            metrics='accuracy'\n",
        "          )"
      ],
      "execution_count": null,
      "outputs": []
    },
    {
      "cell_type": "code",
      "metadata": {
        "colab": {
          "base_uri": "https://localhost:8080/"
        },
        "id": "_j1SsaTvMIbF",
        "outputId": "9278b8a2-cf5d-4b92-c947-b433b924f5c6"
      },
      "source": [
        "cnn.fit(np.array(STtrainX),np.array(STtrainY),epochs=10)"
      ],
      "execution_count": null,
      "outputs": [
        {
          "output_type": "stream",
          "text": [
            "Epoch 1/10\n",
            "313/313 [==============================] - 6s 18ms/step - loss: 0.5131 - accuracy: 0.7417\n",
            "Epoch 2/10\n",
            "313/313 [==============================] - 6s 18ms/step - loss: 0.4170 - accuracy: 0.8125\n",
            "Epoch 3/10\n",
            "313/313 [==============================] - 5s 18ms/step - loss: 0.3814 - accuracy: 0.8337\n",
            "Epoch 4/10\n",
            "313/313 [==============================] - 5s 18ms/step - loss: 0.3588 - accuracy: 0.8457\n",
            "Epoch 5/10\n",
            "313/313 [==============================] - 6s 18ms/step - loss: 0.3315 - accuracy: 0.8581\n",
            "Epoch 6/10\n",
            "313/313 [==============================] - 6s 18ms/step - loss: 0.3059 - accuracy: 0.8729\n",
            "Epoch 7/10\n",
            "313/313 [==============================] - 5s 18ms/step - loss: 0.2864 - accuracy: 0.8818\n",
            "Epoch 8/10\n",
            "313/313 [==============================] - 6s 18ms/step - loss: 0.2731 - accuracy: 0.8873\n",
            "Epoch 9/10\n",
            "313/313 [==============================] - 6s 18ms/step - loss: 0.2605 - accuracy: 0.8933\n",
            "Epoch 10/10\n",
            "313/313 [==============================] - 6s 18ms/step - loss: 0.2448 - accuracy: 0.8999\n"
          ],
          "name": "stdout"
        },
        {
          "output_type": "execute_result",
          "data": {
            "text/plain": [
              "<tensorflow.python.keras.callbacks.History at 0x7ff2164a0990>"
            ]
          },
          "metadata": {
            "tags": []
          },
          "execution_count": 100
        }
      ]
    },
    {
      "cell_type": "code",
      "metadata": {
        "colab": {
          "base_uri": "https://localhost:8080/"
        },
        "id": "aSt2D4ssX7dl",
        "outputId": "a350fd68-a651-4720-a834-cdfbd33b7c59"
      },
      "source": [
        "cnn.evaluate(np.array(STtrainX),np.array(STtrainY))"
      ],
      "execution_count": null,
      "outputs": [
        {
          "output_type": "stream",
          "text": [
            "313/313 [==============================] - 3s 9ms/step - loss: 0.2271 - accuracy: 0.9090\n"
          ],
          "name": "stdout"
        },
        {
          "output_type": "execute_result",
          "data": {
            "text/plain": [
              "[0.22711685299873352, 0.9089999794960022]"
            ]
          },
          "metadata": {
            "tags": []
          },
          "execution_count": 101
        }
      ]
    },
    {
      "cell_type": "markdown",
      "metadata": {
        "id": "050BGOONSxCX"
      },
      "source": [
        "##with cnn, we got an accuracy of 0.909"
      ]
    },
    {
      "cell_type": "code",
      "metadata": {
        "colab": {
          "base_uri": "https://localhost:8080/"
        },
        "id": "aQfVpmWpX6ZP",
        "outputId": "5b1495e1-49b6-4b0e-a21f-8af6ee3623db"
      },
      "source": [
        "cnn.save('./models', save_format='tf')"
      ],
      "execution_count": null,
      "outputs": [
        {
          "output_type": "stream",
          "text": [
            "INFO:tensorflow:Assets written to: ./models/assets\n"
          ],
          "name": "stdout"
        }
      ]
    },
    {
      "cell_type": "code",
      "metadata": {
        "id": "t_kTd3L4MU7k"
      },
      "source": [
        ""
      ],
      "execution_count": null,
      "outputs": []
    }
  ]
}