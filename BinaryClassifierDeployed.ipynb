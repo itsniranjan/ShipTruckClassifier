{
  "nbformat": 4,
  "nbformat_minor": 0,
  "metadata": {
    "colab": {
      "name": "BinaryClassifierDeployed.ipynb",
      "provenance": [],
      "authorship_tag": "ABX9TyNVQakW6/X/ml3n5ObvCe51",
      "include_colab_link": true
    },
    "kernelspec": {
      "name": "python3",
      "display_name": "Python 3"
    },
    "language_info": {
      "name": "python"
    }
  },
  "cells": [
    {
      "cell_type": "markdown",
      "metadata": {
        "id": "view-in-github",
        "colab_type": "text"
      },
      "source": [
        "<a href=\"https://colab.research.google.com/github/itsniranjan/ShipTruckClassifier/blob/main/BinaryClassifierDeployed.ipynb\" target=\"_parent\"><img src=\"https://colab.research.google.com/assets/colab-badge.svg\" alt=\"Open In Colab\"/></a>"
      ]
    },
    {
      "cell_type": "code",
      "metadata": {
        "colab": {
          "base_uri": "https://localhost:8080/"
        },
        "id": "Rn34nfwhlp1f",
        "outputId": "c691aa9c-1a62-44f0-dad8-45b880127c30"
      },
      "source": [
        "!pip install -U ipykernel\n"
      ],
      "execution_count": null,
      "outputs": [
        {
          "output_type": "stream",
          "text": [
            "Requirement already satisfied: ipykernel in /usr/local/lib/python3.7/dist-packages (6.0.3)\n",
            "Requirement already satisfied: tornado<7.0,>=4.2 in /usr/local/lib/python3.7/dist-packages (from ipykernel) (5.1.1)\n",
            "Requirement already satisfied: traitlets<6.0,>=4.1.0 in /usr/local/lib/python3.7/dist-packages (from ipykernel) (5.0.5)\n",
            "Requirement already satisfied: debugpy<2.0,>=1.0.0 in /usr/local/lib/python3.7/dist-packages (from ipykernel) (1.0.0)\n",
            "Requirement already satisfied: ipython<8.0,>=7.23.1 in /usr/local/lib/python3.7/dist-packages (from ipykernel) (7.26.0)\n",
            "Requirement already satisfied: jupyter-client<7.0 in /usr/local/lib/python3.7/dist-packages (from ipykernel) (5.3.5)\n",
            "Requirement already satisfied: importlib-metadata<4 in /usr/local/lib/python3.7/dist-packages (from ipykernel) (3.10.1)\n",
            "Requirement already satisfied: matplotlib-inline<0.2.0,>=0.1.0 in /usr/local/lib/python3.7/dist-packages (from ipykernel) (0.1.2)\n",
            "Requirement already satisfied: typing-extensions>=3.6.4 in /usr/local/lib/python3.7/dist-packages (from importlib-metadata<4->ipykernel) (3.7.4.3)\n",
            "Requirement already satisfied: zipp>=0.5 in /usr/local/lib/python3.7/dist-packages (from importlib-metadata<4->ipykernel) (3.5.0)\n",
            "Requirement already satisfied: prompt-toolkit!=3.0.0,!=3.0.1,<3.1.0,>=2.0.0 in /usr/local/lib/python3.7/dist-packages (from ipython<8.0,>=7.23.1->ipykernel) (3.0.19)\n",
            "Requirement already satisfied: setuptools>=18.5 in /usr/local/lib/python3.7/dist-packages (from ipython<8.0,>=7.23.1->ipykernel) (57.2.0)\n",
            "Requirement already satisfied: backcall in /usr/local/lib/python3.7/dist-packages (from ipython<8.0,>=7.23.1->ipykernel) (0.2.0)\n",
            "Requirement already satisfied: pexpect>4.3 in /usr/local/lib/python3.7/dist-packages (from ipython<8.0,>=7.23.1->ipykernel) (4.8.0)\n",
            "Requirement already satisfied: jedi>=0.16 in /usr/local/lib/python3.7/dist-packages (from ipython<8.0,>=7.23.1->ipykernel) (0.18.0)\n",
            "Requirement already satisfied: decorator in /usr/local/lib/python3.7/dist-packages (from ipython<8.0,>=7.23.1->ipykernel) (4.4.2)\n",
            "Requirement already satisfied: pygments in /usr/local/lib/python3.7/dist-packages (from ipython<8.0,>=7.23.1->ipykernel) (2.6.1)\n",
            "Requirement already satisfied: pickleshare in /usr/local/lib/python3.7/dist-packages (from ipython<8.0,>=7.23.1->ipykernel) (0.7.5)\n",
            "Requirement already satisfied: parso<0.9.0,>=0.8.0 in /usr/local/lib/python3.7/dist-packages (from jedi>=0.16->ipython<8.0,>=7.23.1->ipykernel) (0.8.2)\n",
            "Requirement already satisfied: pyzmq>=13 in /usr/local/lib/python3.7/dist-packages (from jupyter-client<7.0->ipykernel) (22.1.0)\n",
            "Requirement already satisfied: python-dateutil>=2.1 in /usr/local/lib/python3.7/dist-packages (from jupyter-client<7.0->ipykernel) (2.8.1)\n",
            "Requirement already satisfied: jupyter-core>=4.6.0 in /usr/local/lib/python3.7/dist-packages (from jupyter-client<7.0->ipykernel) (4.7.1)\n",
            "Requirement already satisfied: ptyprocess>=0.5 in /usr/local/lib/python3.7/dist-packages (from pexpect>4.3->ipython<8.0,>=7.23.1->ipykernel) (0.7.0)\n",
            "Requirement already satisfied: wcwidth in /usr/local/lib/python3.7/dist-packages (from prompt-toolkit!=3.0.0,!=3.0.1,<3.1.0,>=2.0.0->ipython<8.0,>=7.23.1->ipykernel) (0.2.5)\n",
            "Requirement already satisfied: six>=1.5 in /usr/local/lib/python3.7/dist-packages (from python-dateutil>=2.1->jupyter-client<7.0->ipykernel) (1.15.0)\n",
            "Requirement already satisfied: ipython-genutils in /usr/local/lib/python3.7/dist-packages (from traitlets<6.0,>=4.1.0->ipykernel) (0.2.0)\n"
          ],
          "name": "stdout"
        }
      ]
    },
    {
      "cell_type": "code",
      "metadata": {
        "colab": {
          "base_uri": "https://localhost:8080/"
        },
        "id": "s04m58JhmH7z",
        "outputId": "a5d029ac-8ca2-47d4-b82d-780c9c1a8268"
      },
      "source": [
        "!pip install -q streamlit\n"
      ],
      "execution_count": null,
      "outputs": [
        {
          "output_type": "stream",
          "text": [
            "\u001b[K     |████████████████████████████████| 8.0 MB 11.8 MB/s \n",
            "\u001b[K     |████████████████████████████████| 4.2 MB 31.6 MB/s \n",
            "\u001b[K     |████████████████████████████████| 170 kB 68.5 MB/s \n",
            "\u001b[K     |████████████████████████████████| 111 kB 86.1 MB/s \n",
            "\u001b[K     |████████████████████████████████| 75 kB 3.1 MB/s \n",
            "\u001b[K     |████████████████████████████████| 63 kB 1.7 MB/s \n",
            "\u001b[?25h  Building wheel for blinker (setup.py) ... \u001b[?25l\u001b[?25hdone\n"
          ],
          "name": "stdout"
        }
      ]
    },
    {
      "cell_type": "code",
      "metadata": {
        "colab": {
          "base_uri": "https://localhost:8080/"
        },
        "id": "Jt790mHymbzN",
        "outputId": "5511f614-95c0-4052-8def-e4718aef7906"
      },
      "source": [
        "!pip install pyngrok\n"
      ],
      "execution_count": null,
      "outputs": [
        {
          "output_type": "stream",
          "text": [
            "Collecting pyngrok\n",
            "  Downloading pyngrok-5.0.6.tar.gz (746 kB)\n",
            "\u001b[?25l\r\u001b[K     |▍                               | 10 kB 33.0 MB/s eta 0:00:01\r\u001b[K     |▉                               | 20 kB 40.2 MB/s eta 0:00:01\r\u001b[K     |█▎                              | 30 kB 23.9 MB/s eta 0:00:01\r\u001b[K     |█▊                              | 40 kB 23.8 MB/s eta 0:00:01\r\u001b[K     |██▏                             | 51 kB 17.8 MB/s eta 0:00:01\r\u001b[K     |██▋                             | 61 kB 11.8 MB/s eta 0:00:01\r\u001b[K     |███                             | 71 kB 13.0 MB/s eta 0:00:01\r\u001b[K     |███▌                            | 81 kB 14.6 MB/s eta 0:00:01\r\u001b[K     |████                            | 92 kB 14.9 MB/s eta 0:00:01\r\u001b[K     |████▍                           | 102 kB 14.4 MB/s eta 0:00:01\r\u001b[K     |████▉                           | 112 kB 14.4 MB/s eta 0:00:01\r\u001b[K     |█████▎                          | 122 kB 14.4 MB/s eta 0:00:01\r\u001b[K     |█████▊                          | 133 kB 14.4 MB/s eta 0:00:01\r\u001b[K     |██████▏                         | 143 kB 14.4 MB/s eta 0:00:01\r\u001b[K     |██████▋                         | 153 kB 14.4 MB/s eta 0:00:01\r\u001b[K     |███████                         | 163 kB 14.4 MB/s eta 0:00:01\r\u001b[K     |███████▌                        | 174 kB 14.4 MB/s eta 0:00:01\r\u001b[K     |████████                        | 184 kB 14.4 MB/s eta 0:00:01\r\u001b[K     |████████▍                       | 194 kB 14.4 MB/s eta 0:00:01\r\u001b[K     |████████▊                       | 204 kB 14.4 MB/s eta 0:00:01\r\u001b[K     |█████████▏                      | 215 kB 14.4 MB/s eta 0:00:01\r\u001b[K     |█████████▋                      | 225 kB 14.4 MB/s eta 0:00:01\r\u001b[K     |██████████                      | 235 kB 14.4 MB/s eta 0:00:01\r\u001b[K     |██████████▌                     | 245 kB 14.4 MB/s eta 0:00:01\r\u001b[K     |███████████                     | 256 kB 14.4 MB/s eta 0:00:01\r\u001b[K     |███████████▍                    | 266 kB 14.4 MB/s eta 0:00:01\r\u001b[K     |███████████▉                    | 276 kB 14.4 MB/s eta 0:00:01\r\u001b[K     |████████████▎                   | 286 kB 14.4 MB/s eta 0:00:01\r\u001b[K     |████████████▊                   | 296 kB 14.4 MB/s eta 0:00:01\r\u001b[K     |█████████████▏                  | 307 kB 14.4 MB/s eta 0:00:01\r\u001b[K     |█████████████▋                  | 317 kB 14.4 MB/s eta 0:00:01\r\u001b[K     |██████████████                  | 327 kB 14.4 MB/s eta 0:00:01\r\u001b[K     |██████████████▌                 | 337 kB 14.4 MB/s eta 0:00:01\r\u001b[K     |███████████████                 | 348 kB 14.4 MB/s eta 0:00:01\r\u001b[K     |███████████████▍                | 358 kB 14.4 MB/s eta 0:00:01\r\u001b[K     |███████████████▉                | 368 kB 14.4 MB/s eta 0:00:01\r\u001b[K     |████████████████▎               | 378 kB 14.4 MB/s eta 0:00:01\r\u001b[K     |████████████████▊               | 389 kB 14.4 MB/s eta 0:00:01\r\u001b[K     |█████████████████▏              | 399 kB 14.4 MB/s eta 0:00:01\r\u001b[K     |█████████████████▌              | 409 kB 14.4 MB/s eta 0:00:01\r\u001b[K     |██████████████████              | 419 kB 14.4 MB/s eta 0:00:01\r\u001b[K     |██████████████████▍             | 430 kB 14.4 MB/s eta 0:00:01\r\u001b[K     |██████████████████▉             | 440 kB 14.4 MB/s eta 0:00:01\r\u001b[K     |███████████████████▎            | 450 kB 14.4 MB/s eta 0:00:01\r\u001b[K     |███████████████████▊            | 460 kB 14.4 MB/s eta 0:00:01\r\u001b[K     |████████████████████▏           | 471 kB 14.4 MB/s eta 0:00:01\r\u001b[K     |████████████████████▋           | 481 kB 14.4 MB/s eta 0:00:01\r\u001b[K     |█████████████████████           | 491 kB 14.4 MB/s eta 0:00:01\r\u001b[K     |█████████████████████▌          | 501 kB 14.4 MB/s eta 0:00:01\r\u001b[K     |██████████████████████          | 512 kB 14.4 MB/s eta 0:00:01\r\u001b[K     |██████████████████████▍         | 522 kB 14.4 MB/s eta 0:00:01\r\u001b[K     |██████████████████████▉         | 532 kB 14.4 MB/s eta 0:00:01\r\u001b[K     |███████████████████████▎        | 542 kB 14.4 MB/s eta 0:00:01\r\u001b[K     |███████████████████████▊        | 552 kB 14.4 MB/s eta 0:00:01\r\u001b[K     |████████████████████████▏       | 563 kB 14.4 MB/s eta 0:00:01\r\u001b[K     |████████████████████████▋       | 573 kB 14.4 MB/s eta 0:00:01\r\u001b[K     |█████████████████████████       | 583 kB 14.4 MB/s eta 0:00:01\r\u001b[K     |█████████████████████████▌      | 593 kB 14.4 MB/s eta 0:00:01\r\u001b[K     |██████████████████████████      | 604 kB 14.4 MB/s eta 0:00:01\r\u001b[K     |██████████████████████████▎     | 614 kB 14.4 MB/s eta 0:00:01\r\u001b[K     |██████████████████████████▊     | 624 kB 14.4 MB/s eta 0:00:01\r\u001b[K     |███████████████████████████▏    | 634 kB 14.4 MB/s eta 0:00:01\r\u001b[K     |███████████████████████████▋    | 645 kB 14.4 MB/s eta 0:00:01\r\u001b[K     |████████████████████████████    | 655 kB 14.4 MB/s eta 0:00:01\r\u001b[K     |████████████████████████████▌   | 665 kB 14.4 MB/s eta 0:00:01\r\u001b[K     |█████████████████████████████   | 675 kB 14.4 MB/s eta 0:00:01\r\u001b[K     |█████████████████████████████▍  | 686 kB 14.4 MB/s eta 0:00:01\r\u001b[K     |█████████████████████████████▉  | 696 kB 14.4 MB/s eta 0:00:01\r\u001b[K     |██████████████████████████████▎ | 706 kB 14.4 MB/s eta 0:00:01\r\u001b[K     |██████████████████████████████▊ | 716 kB 14.4 MB/s eta 0:00:01\r\u001b[K     |███████████████████████████████▏| 727 kB 14.4 MB/s eta 0:00:01\r\u001b[K     |███████████████████████████████▋| 737 kB 14.4 MB/s eta 0:00:01\r\u001b[K     |████████████████████████████████| 746 kB 14.4 MB/s \n",
            "\u001b[?25hRequirement already satisfied: PyYAML in /usr/local/lib/python3.7/dist-packages (from pyngrok) (3.13)\n",
            "Building wheels for collected packages: pyngrok\n",
            "  Building wheel for pyngrok (setup.py) ... \u001b[?25l\u001b[?25hdone\n",
            "  Created wheel for pyngrok: filename=pyngrok-5.0.6-py3-none-any.whl size=19263 sha256=eda5062023365af2075b707a517e09506ee72421eb2089ced1b7c0eb6c17c233\n",
            "  Stored in directory: /root/.cache/pip/wheels/d5/8c/c4/8d9cbca4fa19bf64887b4a91914194bb9033f1a7cbb344d5ab\n",
            "Successfully built pyngrok\n",
            "Installing collected packages: pyngrok\n",
            "Successfully installed pyngrok-5.0.6\n"
          ],
          "name": "stdout"
        }
      ]
    },
    {
      "cell_type": "code",
      "metadata": {
        "colab": {
          "base_uri": "https://localhost:8080/"
        },
        "id": "Gqiy-NYOmfsd",
        "outputId": "c3c47a0f-ccaa-460b-e5b8-bafdbe2871a3"
      },
      "source": [
        "!ngrok authtoken 1waumnxKKZ1nFcBTX43vPUdMyN0_8cYU5sAKGkcZWeFHktnU"
      ],
      "execution_count": null,
      "outputs": [
        {
          "output_type": "stream",
          "text": [
            "Authtoken saved to configuration file: /root/.ngrok2/ngrok.yml\n"
          ],
          "name": "stdout"
        }
      ]
    },
    {
      "cell_type": "code",
      "metadata": {
        "colab": {
          "base_uri": "https://localhost:8080/"
        },
        "id": "injeGAIPol5p",
        "outputId": "ee155ff1-0f52-4a5f-e428-d01273b3e441"
      },
      "source": [
        "from google.colab import drive\n",
        "drive.mount('/content/drive')"
      ],
      "execution_count": null,
      "outputs": [
        {
          "output_type": "stream",
          "text": [
            "Mounted at /content/drive\n"
          ],
          "name": "stdout"
        }
      ]
    },
    {
      "cell_type": "code",
      "metadata": {
        "id": "x1y6srSQoqNs",
        "colab": {
          "base_uri": "https://localhost:8080/"
        },
        "outputId": "b5a9b0e4-0e87-4759-e593-742e408b2673"
      },
      "source": [
        "%%writefile score.py\n",
        "\n",
        "import tensorflow as tf\n",
        "import numpy as np\n",
        "import streamlit as st\n",
        "from PIL import Image\n",
        "import requests\n",
        "from io import BytesIO\n",
        "\n",
        "st.set_option('deprecation.showfileUploaderEncoding', False)\n",
        "st.title(\"Ship Truck Classifie\")\n",
        "st.text(\"Provide URL of  Image for image classification\")\n",
        "\n",
        "@st.cache(allow_output_mutation=True)\n",
        "def load_model():\n",
        "  model = tf.keras.models.load_model('/content/drive/My Drive/Colab Notebooks/models/image/models')\n",
        "  return model\n",
        "\n",
        "with st.spinner('Loading Model Into Memory....'):\n",
        "  model = load_model()\n",
        "\n",
        "classes=['ship','truck']\n",
        "\n",
        "def scale(image):\n",
        "  image = tf.cast(image, tf.float32)\n",
        "  image /= 255.0\n",
        "\n",
        "  return tf.image.resize(image,[32,32])\n",
        "\n",
        "def decode_img(image):\n",
        "  img = tf.image.decode_jpeg(image, channels=3)\n",
        "  img = scale(img)\n",
        "  return np.expand_dims(img, axis=0)\n",
        "\n",
        "  path = st.text_input('Enter Image URL to Classify.. ','https://cdn.britannica.com/17/126517-050-9CDCBDDF/semi-semitrailer-truck-tractor-highway.jpg')\n",
        "if path is not None:\n",
        "    content = requests.get(path).content\n",
        "\n",
        "    st.write(\"Predicted Class :\")\n",
        "    with st.spinner('classifying.....'):\n",
        "      label =np.argmax(model.predict(decode_img(content)),axis=1)\n",
        "      st.write(classes[label[0]])    \n",
        "    st.write(\"\")\n",
        "    image = Image.open(BytesIO(content))\n",
        "    st.image(image, caption='Classifying Image', use_column_width=True)"
      ],
      "execution_count": 6,
      "outputs": [
        {
          "output_type": "stream",
          "text": [
            "Writing score.py\n"
          ],
          "name": "stdout"
        }
      ]
    },
    {
      "cell_type": "code",
      "metadata": {
        "colab": {
          "base_uri": "https://localhost:8080/"
        },
        "id": "3fBLSEkAq4zI",
        "outputId": "ec5b5b7b-27fb-4923-d107-36d77dd9e168"
      },
      "source": [
        "!nohup streamlit run score.py &\n"
      ],
      "execution_count": 7,
      "outputs": [
        {
          "output_type": "stream",
          "text": [
            "nohup: appending output to 'nohup.out'\n"
          ],
          "name": "stdout"
        }
      ]
    },
    {
      "cell_type": "code",
      "metadata": {
        "colab": {
          "base_uri": "https://localhost:8080/"
        },
        "id": "f9XNZk9Vq8VR",
        "outputId": "8a21a2e8-f3a7-4c7d-bd29-955dd2654a99"
      },
      "source": [
        "from pyngrok import ngrok\n",
        "\n",
        "url = ngrok.connect(port=8000)\n",
        "url"
      ],
      "execution_count": 9,
      "outputs": [
        {
          "output_type": "execute_result",
          "data": {
            "text/plain": [
              "<NgrokTunnel: \"http://da52c046b8d9.ngrok.io\" -> \"http://localhost:80\">"
            ]
          },
          "metadata": {
            "tags": []
          },
          "execution_count": 9
        }
      ]
    },
    {
      "cell_type": "code",
      "metadata": {
        "id": "ztqKWGtcrAey"
      },
      "source": [
        ""
      ],
      "execution_count": null,
      "outputs": []
    }
  ]
}